{
 "cells": [
  {
   "cell_type": "code",
   "execution_count": 1,
   "id": "faced-intention",
   "metadata": {},
   "outputs": [],
   "source": [
    "from collections import defaultdict\n",
    "from copy import deepcopy\n",
    "import json\n",
    "import os\n",
    "import warnings\n",
    "import glob\n",
    "import re\n",
    "from io import StringIO, BytesIO\n",
    "from functools import partial\n",
    "from typing import Tuple\n",
    "\n",
    "import h5py\n",
    "import k3d\n",
    "import numpy as np\n",
    "import matplotlib.pyplot as plt\n",
    "from tqdm.notebook import tqdm, trange"
   ]
  },
  {
   "cell_type": "code",
   "execution_count": 2,
   "id": "editorial-sending",
   "metadata": {},
   "outputs": [],
   "source": [
    "import sys\n",
    "sys.path.append('..')"
   ]
  },
  {
   "cell_type": "code",
   "execution_count": 3,
   "id": "ultimate-williams",
   "metadata": {},
   "outputs": [],
   "source": [
    "from gcv_v20211_hw1.utils.plotting import display_depth_sharpness, display_sharpness\n",
    "from gcv_v20211_hw1.utils.hdf5.dataset import Hdf5File, PreloadTypes\n",
    "from gcv_v20211_hw1.utils.sharpf_io import WholeDepthMapIO, PointPatchPredictionsIO\n",
    "from gcv_v20211_hw1.utils.camera_utils.camera_pose import camera_to_display, CameraPose"
   ]
  },
  {
   "cell_type": "code",
   "execution_count": 7,
   "id": "willing-symposium",
   "metadata": {},
   "outputs": [],
   "source": [
    "fused_gt_dataset = Hdf5File(\n",
    "    '../validation/results/abc_0050_00500149_54930d6f7740b03347d89a56_000__ground_truth.hdf5',\n",
    "    io=PointPatchPredictionsIO,\n",
    "    preload=PreloadTypes.LAZY,\n",
    "    labels='*')\n",
    "\n",
    "fused_pred_dataset = Hdf5File(\n",
    "    '../validation/results/abc_0050_00500149_54930d6f7740b03347d89a56_000__interpolated.hdf5',\n",
    "    io=PointPatchPredictionsIO,\n",
    "    preload=PreloadTypes.LAZY,\n",
    "    labels='*')"
   ]
  },
  {
   "cell_type": "code",
   "execution_count": 10,
   "id": "special-bible",
   "metadata": {},
   "outputs": [
    {
     "data": {
      "application/vnd.jupyter.widget-view+json": {
       "model_id": "d8481b25e9234f31b3f7197bb16d836a",
       "version_major": 2,
       "version_minor": 0
      },
      "text/plain": [
       "Output()"
      ]
     },
     "metadata": {},
     "output_type": "display_data"
    }
   ],
   "source": [
    "display_sharpness(\n",
    "    samples=fused_gt_dataset[0]['points'],\n",
    "    samples_distances=fused_pred_dataset[0]['distances'],\n",
    "    samples_psize=0.2\n",
    ")"
   ]
  },
  {
   "cell_type": "code",
   "execution_count": 11,
   "id": "valid-honor",
   "metadata": {},
   "outputs": [
    {
     "name": "stdout",
     "output_type": "stream",
     "text": [
      "Help on function display_sharpness in module gcv_v20211_hw1.utils.plotting:\n",
      "\n",
      "display_sharpness(mesh=None, plot_meshvert=True, samples=None, samples_distances=None, sharp_vert=None, sharp_curves=None, directions=None, directions_width=0.0025, samples_color=255, samples_psize=0.002, mesh_color=12303291, meshvert_color=6710886, meshvert_psize=0.0025, sharpvert_color=16711680, sharpvert_psize=0.0025, sharpcurve_color=None, sharpcurve_width=0.0025, as_image=False, plot_height=768, cmap=array([0.        , 0.70567316, 0.01555616, ..., 0.2298057 , 0.29871798,\n",
      "       0.75368315], dtype=float32))\n",
      "\n"
     ]
    }
   ],
   "source": [
    "help(display_sharpness)"
   ]
  },
  {
   "cell_type": "code",
   "execution_count": null,
   "id": "unauthorized-bennett",
   "metadata": {},
   "outputs": [],
   "source": []
  }
 ],
 "metadata": {
  "kernelspec": {
   "display_name": "Python 3",
   "language": "python",
   "name": "python3"
  },
  "language_info": {
   "codemirror_mode": {
    "name": "ipython",
    "version": 3
   },
   "file_extension": ".py",
   "mimetype": "text/x-python",
   "name": "python",
   "nbconvert_exporter": "python",
   "pygments_lexer": "ipython3",
   "version": "3.7.1"
  }
 },
 "nbformat": 4,
 "nbformat_minor": 5
}
